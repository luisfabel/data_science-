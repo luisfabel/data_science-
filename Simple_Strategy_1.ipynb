{
 "cells": [
  {
   "cell_type": "code",
   "execution_count": 8,
   "metadata": {},
   "outputs": [],
   "source": [
    "import pandas as pd\n",
    "import os\n",
    "import matplotlib.pyplot as plt\n",
    "import numpy as np\n",
    "import seaborn as sns\n",
    "\n",
    "from dotenv import load_dotenv\n",
    "from binance.client import Client\n",
    "from datetime import datetime, timedelta"
   ]
  },
  {
   "cell_type": "code",
   "execution_count": 9,
   "metadata": {},
   "outputs": [],
   "source": [
    "df_future_val = pd.read_json('/Users/goldenhello/Desktop/Quant/Matic_Strategy/data_futures.json')"
   ]
  },
  {
   "cell_type": "code",
   "execution_count": 10,
   "metadata": {},
   "outputs": [
    {
     "data": {
      "text/plain": [
       "Index(['Open time', 'Open', 'High', 'Low', 'Close', 'Volume', 'Close time',\n",
       "       'Quote asset volume', 'Number of trades', 'Taker buy base asset volume',\n",
       "       'Taker buy quote asset volume', 'Ignore', 'Gain/Loss',\n",
       "       'Percentage Change', 'Conditional Cumulative Sum', '300 Period MA',\n",
       "       '60 Period MA', '14 Period MA', 'Close_prev_1', 'Close_prev_2',\n",
       "       'Close_prev_3', 'Close_prev_4', 'Close_prev_5', 'Close_prev_6',\n",
       "       'Close_prev_7', 'Close_prev_8', 'Close_prev_9', 'Close_prev_10',\n",
       "       'Close_future_1', 'Close_future_2', 'Close_future_3', 'Close_future_4',\n",
       "       'Close_future_5', 'Close_future_6', 'Close_future_7', 'Close_future_8',\n",
       "       'Close_future_9', 'Close_future_10', 'RSI_300', 'Processed Difference'],\n",
       "      dtype='object')"
      ]
     },
     "execution_count": 10,
     "metadata": {},
     "output_type": "execute_result"
    }
   ],
   "source": [
    "df_future_val.columns"
   ]
  },
  {
   "cell_type": "code",
   "execution_count": null,
   "metadata": {},
   "outputs": [],
   "source": []
  }
 ],
 "metadata": {
  "kernelspec": {
   "display_name": "myenv",
   "language": "python",
   "name": "python3"
  },
  "language_info": {
   "codemirror_mode": {
    "name": "ipython",
    "version": 3
   },
   "file_extension": ".py",
   "mimetype": "text/x-python",
   "name": "python",
   "nbconvert_exporter": "python",
   "pygments_lexer": "ipython3",
   "version": "3.9.6"
  }
 },
 "nbformat": 4,
 "nbformat_minor": 2
}
