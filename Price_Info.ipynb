{
 "cells": [
  {
   "cell_type": "code",
   "execution_count": 1,
   "metadata": {},
   "outputs": [
    {
     "name": "stderr",
     "output_type": "stream",
     "text": [
      "/var/folders/tz/42t89gc96wlc7x7hvqz5gqnc0000gn/T/ipykernel_26575/1612467463.py:2: DeprecationWarning: \n",
      "Pyarrow will become a required dependency of pandas in the next major release of pandas (pandas 3.0),\n",
      "(to allow more performant data types, such as the Arrow string type, and better interoperability with other libraries)\n",
      "but was not found to be installed on your system.\n",
      "If this would cause problems for you,\n",
      "please provide us feedback at https://github.com/pandas-dev/pandas/issues/54466\n",
      "        \n",
      "  import pandas as pd\n",
      "/Users/goldenhello/Library/Python/3.9/lib/python/site-packages/urllib3/__init__.py:35: NotOpenSSLWarning: urllib3 v2 only supports OpenSSL 1.1.1+, currently the 'ssl' module is compiled with 'LibreSSL 2.8.3'. See: https://github.com/urllib3/urllib3/issues/3020\n",
      "  warnings.warn(\n"
     ]
    }
   ],
   "source": [
    "\n",
    "import sys\n",
    "import pandas as pd\n",
    "import os\n",
    "import numpy as np\n",
    "\n",
    "from dotenv import load_dotenv\n",
    "from functools import wraps\n",
    "from requests.exceptions import ReadTimeout\n",
    "from binance.client import Client\n",
    "from datetime import datetime, timedelta\n",
    "sys.path.append('/Users/goldenhello/Desktop/Quant/Matic_Strategy')"
   ]
  },
  {
   "cell_type": "code",
   "execution_count": 2,
   "metadata": {},
   "outputs": [],
   "source": [
    "load_dotenv()\n",
    "binance_api_key= os.getenv('BINANCE_API_KEY')\n",
    "binance_secret_key= os.getenv('BINANCE_API_SECRET')\n",
    "client = Client(binance_api_key, binance_secret_key)"
   ]
  },
  {
   "cell_type": "code",
   "execution_count": 3,
   "metadata": {},
   "outputs": [
    {
     "name": "stdout",
     "output_type": "stream",
     "text": [
      "Start Date: 01 March, 2024\n",
      "End Date 30 April, 2024\n"
     ]
    }
   ],
   "source": [
    "# Convert start_date to new format\n",
    "start_date_formatted = '01 March, 2024'\n",
    "\n",
    "# Convert end_date_plus1 to new format\n",
    "end_date_plus1_formatted = '30 April, 2024'\n",
    "\n",
    "# Print the formatted dates\n",
    "print(\"Start Date:\", start_date_formatted)\n",
    "print(\"End Date\", end_date_plus1_formatted)"
   ]
  },
  {
   "cell_type": "code",
   "execution_count": 4,
   "metadata": {},
   "outputs": [],
   "source": [
    "RSI= 300\n",
    "n_back = 10\n",
    "n_back_full = max(n_back, RSI)\n",
    "x_forward = 10"
   ]
  },
  {
   "cell_type": "markdown",
   "metadata": {},
   "source": []
  },
  {
   "cell_type": "code",
   "execution_count": 5,
   "metadata": {},
   "outputs": [],
   "source": [
    "klines = client.get_historical_klines(\"MATICUSDT\", Client.KLINE_INTERVAL_1MINUTE, start_date_formatted, end_date_plus1_formatted)\n",
    "column_names = [\"Open time\", \"Open\", \"High\", \"Low\", \"Close\", \"Volume\", \"Close time\", \"Quote asset volume\", \"Number of trades\", \"Taker buy base asset volume\", \"Taker buy quote asset volume\", \"Ignore\"]"
   ]
  },
  {
   "cell_type": "markdown",
   "metadata": {},
   "source": [
    "# Run Once Start Here"
   ]
  },
  {
   "cell_type": "code",
   "execution_count": null,
   "metadata": {},
   "outputs": [],
   "source": [
    "df = pd.DataFrame(klines, columns=column_names)"
   ]
  },
  {
   "cell_type": "code",
   "execution_count": 6,
   "metadata": {},
   "outputs": [],
   "source": [
    "df['Open time'] = pd.to_datetime(df['Open time'], unit='ms')\n",
    "\n",
    "# Convert 'Open' and 'Close' columns to numeric\n",
    "df['Open'] = pd.to_numeric(df['Open'], errors='coerce')\n",
    "df['Close'] = pd.to_numeric(df['Close'], errors='coerce')\n",
    "\n",
    "# Calculate Gain/Loss\n",
    "df['Gain/Loss'] = df['Close'] - df['Open']\n",
    "\n",
    "# Calculate Percentage Change\n",
    "df['Percentage Change'] = (df['Gain/Loss'] / df['Open']) * 100\n",
    "\n",
    "sign_changes = np.sign(df['Percentage Change']).diff().ne(0)\n",
    "df['Conditional Cumulative Sum'] = df.groupby(sign_changes.cumsum())['Percentage Change'].cumsum()\n",
    "\n",
    "# Calculate the 300-period moving average of the 'Close' prices\n",
    "# Since this example has fewer than 300 periods, replace '300' with a smaller number like '3' to see the calculation\n",
    "df['300 Period MA'] = df['Close'].rolling(window=300, min_periods=1).mean()\n",
    "df['60 Period MA'] = df['Close'].rolling(window=60, min_periods=1).mean()\n",
    "df['14 Period MA'] = df['Close'].rolling(window=14, min_periods=1).mean()\n",
    "df['Distance_300_MA'] = df['Open']-df['300 Period MA']\n",
    "\n",
    "# Previous values are lower in the dataset due to descending order\n",
    "for i in range(1, n_back+1):\n",
    "    df[f'Close_prev_{i}'] = df['Close'].shift(i)\n",
    "\n",
    "# Future values are higher in the dataset due to descending order\n",
    "for i in range(1, x_forward+1):\n",
    "    df[f'Close_future_{i}'] = df['Close'].shift(-i)\n"
   ]
  },
  {
   "cell_type": "code",
   "execution_count": 7,
   "metadata": {},
   "outputs": [],
   "source": [
    "def calculate_rsi(df, periods=14):\n",
    "    delta = df['Open'].diff()\n",
    "    gain = (delta.where(delta > 0, 0)).fillna(0)\n",
    "    loss = (-delta.where(delta < 0, 0)).fillna(0)\n",
    "\n",
    "    # Calculate the exponential moving average\n",
    "    avg_gain = gain.ewm(com=periods-1, min_periods=periods).mean()\n",
    "    avg_loss = loss.ewm(com=periods-1, min_periods=periods).mean()\n",
    "\n",
    "    # Calculate RS and RSI\n",
    "    # Add a small number to avg_loss to avoid division by zero\n",
    "    rs = avg_gain / (avg_loss + 1e-10)\n",
    "    rsi = 100 - (100 / (1 + rs))\n",
    "\n",
    "    return rsi\n",
    "\n",
    "# Calculate RSI\n",
    "df['RSI_300'] = calculate_rsi(df, periods=300)"
   ]
  },
  {
   "cell_type": "code",
   "execution_count": 8,
   "metadata": {},
   "outputs": [],
   "source": [
    "# Convert all relevant columns to numeric, missing values will be NaN\n",
    "df = df.apply(pd.to_numeric, errors='coerce')\n",
    "\n",
    "# Define the function to process the highest future close difference\n",
    "def process_highest_difference(row):\n",
    "    close_value = row['Close']\n",
    "    # Extract all future close values from the row, ignoring NaN values\n",
    "    future_values = [row[col] for col in df if col.startswith('Close_future_') and pd.notna(row[col])]\n",
    "    if not future_values or pd.isna(close_value):  # Check if future_values is empty or close_value is NaN\n",
    "        return 0  # Return 0 if there are no valid future values or if close is NaN\n",
    "\n",
    "    # Find the maximum future value\n",
    "    max_future_value = max(future_values)\n",
    "    # Calculate the percentage difference and round to three decimal places\n",
    "    percentage_difference = round((max_future_value - close_value) / close_value, 3)\n",
    "    # Handle negative values\n",
    "    if percentage_difference < 0:\n",
    "        return 0\n",
    "    # Extract the last decimal digit and cap it at 7\n",
    "    last_digit = int((percentage_difference * 1000) % 10)\n",
    "    return min(last_digit, 7)\n",
    "\n",
    "# Apply the function to each row and create a new column\n",
    "df['Processed Difference'] = df.apply(process_highest_difference, axis=1)\n",
    "\n",
    "df.to_json('data_futures.json')\n",
    "\n",
    "df = df.drop(columns=[\n",
    "       'Close_future_1', 'Close_future_2', 'Close_future_3', 'Close_future_4',\n",
    "       'Close_future_5', 'Close_future_6', 'Close_future_7', 'Close_future_8',\n",
    "       'Close_future_9', 'Close_future_10','Close time','Ignore'])\n",
    "\n",
    "df = df.iloc[n_back_full:-x_forward]"
   ]
  },
  {
   "cell_type": "code",
   "execution_count": 9,
   "metadata": {},
   "outputs": [],
   "source": [
    "df.to_json('data_1.json')"
   ]
  },
  {
   "cell_type": "code",
   "execution_count": 10,
   "metadata": {},
   "outputs": [
    {
     "data": {
      "text/plain": [
       "Index(['Open time', 'Open', 'High', 'Low', 'Close', 'Volume',\n",
       "       'Quote asset volume', 'Number of trades', 'Taker buy base asset volume',\n",
       "       'Taker buy quote asset volume', 'Gain/Loss', 'Percentage Change',\n",
       "       'Conditional Cumulative Sum', '300 Period MA', '60 Period MA',\n",
       "       '14 Period MA', 'Distance_300_MA', 'Close_prev_1', 'Close_prev_2',\n",
       "       'Close_prev_3', 'Close_prev_4', 'Close_prev_5', 'Close_prev_6',\n",
       "       'Close_prev_7', 'Close_prev_8', 'Close_prev_9', 'Close_prev_10',\n",
       "       'RSI_300', 'Processed Difference'],\n",
       "      dtype='object')"
      ]
     },
     "execution_count": 10,
     "metadata": {},
     "output_type": "execute_result"
    }
   ],
   "source": [
    "df.columns\n"
   ]
  },
  {
   "cell_type": "code",
   "execution_count": 11,
   "metadata": {},
   "outputs": [
    {
     "name": "stdout",
     "output_type": "stream",
     "text": [
      "                 Open time    Open    High     Low   Close    Volume  \\\n",
      "300    1709269200000000000  1.0216  1.0227  1.0215  1.0222   24700.5   \n",
      "301    1709269260000000000  1.0222  1.0223  1.0213  1.0214   14304.7   \n",
      "302    1709269320000000000  1.0214  1.0215  1.0192  1.0199   88450.0   \n",
      "303    1709269380000000000  1.0200  1.0209  1.0200  1.0202   49417.1   \n",
      "304    1709269440000000000  1.0202  1.0221  1.0199  1.0221   82584.6   \n",
      "...                    ...     ...     ...     ...     ...       ...   \n",
      "86386  1714434360000000000  0.7081  0.7081  0.7058  0.7060  181084.5   \n",
      "86387  1714434420000000000  0.7059  0.7061  0.7056  0.7057   40075.8   \n",
      "86388  1714434480000000000  0.7057  0.7057  0.7049  0.7054  112907.3   \n",
      "86389  1714434540000000000  0.7053  0.7055  0.7052  0.7055   20243.2   \n",
      "86390  1714434600000000000  0.7055  0.7060  0.7051  0.7056   12743.3   \n",
      "\n",
      "       Quote asset volume  Number of trades  Taker buy base asset volume  \\\n",
      "300           25248.98119               101                       7294.8   \n",
      "301           14616.46708                54                       6956.5   \n",
      "302           90275.70187               183                      30027.1   \n",
      "303           50419.21726                80                      40726.8   \n",
      "304           84303.19968               141                      64792.6   \n",
      "...                   ...               ...                          ...   \n",
      "86386        127912.15519               339                      51204.9   \n",
      "86387         28286.29248               103                      11931.9   \n",
      "86388         79626.48423               238                      38196.8   \n",
      "86389         14277.68983                46                       6227.6   \n",
      "86390          8989.76660                42                       7484.4   \n",
      "\n",
      "       Taker buy quote asset volume  Gain/Loss  Percentage Change  \\\n",
      "300                      7456.53344     0.0006           0.058731   \n",
      "301                      7106.51757    -0.0008          -0.078263   \n",
      "302                     30622.08743    -0.0015          -0.146857   \n",
      "303                     41549.30131     0.0002           0.019608   \n",
      "304                     66134.65864     0.0019           0.186238   \n",
      "...                             ...        ...                ...   \n",
      "86386                   36162.66467    -0.0021          -0.296568   \n",
      "86387                    8421.85040    -0.0002          -0.028333   \n",
      "86388                   26937.90769    -0.0003          -0.042511   \n",
      "86389                    4392.61638     0.0002           0.028357   \n",
      "86390                    5279.18618     0.0001           0.014174   \n",
      "\n",
      "       Conditional Cumulative Sum  300 Period MA  60 Period MA  14 Period MA  \\\n",
      "300                      0.146915       1.016016      1.019103      1.021150   \n",
      "301                     -0.078263       1.016078      1.019232      1.021300   \n",
      "302                     -0.225120       1.016132      1.019323      1.021236   \n",
      "303                      0.019608       1.016188      1.019388      1.021257   \n",
      "304                      0.205846       1.016255      1.019507      1.021393   \n",
      "...                           ...            ...           ...           ...   \n",
      "86386                   -0.296568       0.698852      0.709325      0.708479   \n",
      "86387                   -0.324901       0.698886      0.709290      0.708150   \n",
      "86388                   -0.367412       0.698915      0.709232      0.707836   \n",
      "86389                    0.028357       0.698944      0.709192      0.707593   \n",
      "86390                    0.042531       0.698973      0.709148      0.707343   \n",
      "\n",
      "       Distance_300_MA  Close_prev_1  Close_prev_2  Close_prev_3  \\\n",
      "300           0.005584        1.0215        1.0206        1.0211   \n",
      "301           0.006122        1.0222        1.0215        1.0206   \n",
      "302           0.005268        1.0214        1.0222        1.0215   \n",
      "303           0.003812        1.0199        1.0214        1.0222   \n",
      "304           0.003945        1.0202        1.0199        1.0214   \n",
      "...                ...           ...           ...           ...   \n",
      "86386         0.009248        0.7080        0.7070        0.7075   \n",
      "86387         0.007014        0.7060        0.7080        0.7070   \n",
      "86388         0.006785        0.7057        0.7060        0.7080   \n",
      "86389         0.006356        0.7054        0.7057        0.7060   \n",
      "86390         0.006527        0.7055        0.7054        0.7057   \n",
      "\n",
      "       Close_prev_4  Close_prev_5  Close_prev_6  Close_prev_7  Close_prev_8  \\\n",
      "300          1.0221        1.0225        1.0219        1.0214        1.0217   \n",
      "301          1.0211        1.0221        1.0225        1.0219        1.0214   \n",
      "302          1.0206        1.0211        1.0221        1.0225        1.0219   \n",
      "303          1.0215        1.0206        1.0211        1.0221        1.0225   \n",
      "304          1.0222        1.0215        1.0206        1.0211        1.0221   \n",
      "...             ...           ...           ...           ...           ...   \n",
      "86386        0.7075        0.7086        0.7089        0.7089        0.7094   \n",
      "86387        0.7075        0.7075        0.7086        0.7089        0.7089   \n",
      "86388        0.7070        0.7075        0.7075        0.7086        0.7089   \n",
      "86389        0.7080        0.7070        0.7075        0.7075        0.7086   \n",
      "86390        0.7060        0.7080        0.7070        0.7075        0.7075   \n",
      "\n",
      "       Close_prev_9  Close_prev_10    RSI_300  Processed Difference  \n",
      "300          1.0209         1.0202  53.412805                     1  \n",
      "301          1.0217         1.0209  53.593419                     2  \n",
      "302          1.0214         1.0217  53.316891                     3  \n",
      "303          1.0219         1.0214  52.838191                     3  \n",
      "304          1.0225         1.0219  52.898806                     1  \n",
      "...             ...            ...        ...                   ...  \n",
      "86386        0.7088         0.7091  51.903933                     0  \n",
      "86387        0.7094         0.7088  51.230706                     0  \n",
      "86388        0.7089         0.7094  51.170167                     0  \n",
      "86389        0.7089         0.7089  51.049114                     0  \n",
      "86390        0.7086         0.7089  51.107140                     0  \n",
      "\n",
      "[86091 rows x 29 columns]\n"
     ]
    }
   ],
   "source": [
    "with pd.option_context('display.max_columns', None):  # None means unlimited\n",
    "    print(df)"
   ]
  },
  {
   "cell_type": "code",
   "execution_count": null,
   "metadata": {},
   "outputs": [],
   "source": []
  }
 ],
 "metadata": {
  "interpreter": {
   "hash": "23acd067b45618450569efe26008f6979c0ce5a46ee82295c7202b591e7c1922"
  },
  "kernelspec": {
   "display_name": "Python 3.7.6 64-bit ('bullion': virtualenv)",
   "name": "python3"
  },
  "language_info": {
   "codemirror_mode": {
    "name": "ipython",
    "version": 3
   },
   "file_extension": ".py",
   "mimetype": "text/x-python",
   "name": "python",
   "nbconvert_exporter": "python",
   "pygments_lexer": "ipython3",
   "version": "3.9.6"
  },
  "orig_nbformat": 4
 },
 "nbformat": 4,
 "nbformat_minor": 2
}
